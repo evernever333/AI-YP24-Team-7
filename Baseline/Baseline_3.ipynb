{
  "cells": [
    {
      "cell_type": "markdown",
      "metadata": {
        "id": "view-in-github",
        "colab_type": "text"
      },
      "source": [
        "<a href=\"https://colab.research.google.com/github/evernever333/AI-YP24-Team-7/blob/main/Baseline/Baseline_3.ipynb\" target=\"_parent\"><img src=\"https://colab.research.google.com/assets/colab-badge.svg\" alt=\"Open In Colab\"/></a>"
      ]
    },
    {
      "cell_type": "markdown",
      "source": [
        "# Улучшение Baseline: Учёт цвета\n",
        "\n",
        "Мы продолжаем разработку нашей модели классификации изображений, расширяя набор используемых признаков. Ранее мы использовали методы обработки изображений, такие как **SIFT** (Scale-Invariant Feature Transform) и **HOG** (Histogram of Oriented Gradients), которые анализируют текстурные и структурные особенности объектов. Однако, для улучшения качества модели и повышения её способности различать объекты, мы добавили новые признаки, основанные на анализе цветовой информации изображений.\n",
        "\n",
        "В рамках данного исследования мы предлагаем извлекать **статистические характеристики** каждого из цветовых каналов изображения. Для каждого канала (красный, зелёный, синий) мы вычисляем:\n",
        "\n",
        "- **Среднее значение (Mean):**  \n",
        "  ```\n",
        "  μ = (1/N) * Σ xᵢ\n",
        "  ```\n",
        "  где `xᵢ` — значение пикселя, `N` — общее количество пикселей в канале.\n",
        "\n",
        "- **Стандартное отклонение (Standard Deviation):**  \n",
        "  ```\n",
        "  σ = sqrt((1/N) * Σ (xᵢ - μ)²)\n",
        "  ```\n",
        "\n",
        "- **Медиану, минимальное и максимальное значения** для учёта крайних значений в распределении пикселей.\n",
        "\n",
        "- **Квартили (25-й и 75-й процентили):**  \n",
        "  ```\n",
        "  Q₁ = Percentile(x, 25),  Q₃ = Percentile(x, 75)\n",
        "  ```\n",
        "\n",
        "- **Асимметрия (Skewness):**  \n",
        "  ```\n",
        "  S = (1/N) * Σ ((xᵢ - μ)³ / σ³)\n",
        "  ```\n",
        "\n",
        "- **Эксцесс (Kurtosis):**  \n",
        "  ```\n",
        "  K = (1/N) * Σ ((xᵢ - μ)⁴ / σ⁴) - 3\n",
        "  ```\n",
        "\n",
        "Дополнительно, мы учитываем **корреляцию между цветовыми каналами**, вычисляя коэффициенты корреляции между:\n",
        "\n",
        "- Красным и зелёным `(r_{R,G})`\n",
        "- Красным и синим `(r_{R,B})`\n",
        "- Зелёным и синим `(r_{G,B})`\n",
        "\n",
        "Коэффициент корреляции рассчитывается по формуле:\n",
        "\n",
        "```\n",
        " r_{XY} = Σ ((Xᵢ - μ_X) * (Yᵢ - μ_Y)) / sqrt(Σ (Xᵢ - μ_X)² * Σ (Yᵢ - μ_Y)²)\n",
        "```\n",
        "\n",
        "Это позволяет учитывать взаимосвязи между цветовыми компонентами и выявлять характерные особенности различных классов изображений.\n",
        "\n",
        "Добавление этих признаков должно помочь модели лучше различать объекты на основе их цветовых характеристик, что особенно полезно для задач, в которых текстурные признаки **недостаточны** для точной классификации.\n"
      ],
      "metadata": {
        "id": "whmlZz7IkHiA"
      }
    },
    {
      "cell_type": "markdown",
      "source": [
        "1. Загружаем Dataset"
      ],
      "metadata": {
        "id": "tnFJn_tuKL1t"
      }
    },
    {
      "cell_type": "code",
      "execution_count": null,
      "metadata": {
        "colab": {
          "base_uri": "https://localhost:8080/"
        },
        "id": "nAuzyxb3obo2",
        "outputId": "f0e1bbfe-b7ec-4c96-f2ce-5169f96ace67"
      },
      "outputs": [
        {
          "output_type": "stream",
          "name": "stdout",
          "text": [
            "Path to dataset files: /root/.cache/kagglehub/datasets/misrakahmed/vegetable-image-dataset/versions/1/Vegetable Images\n"
          ]
        }
      ],
      "source": [
        "import kagglehub\n",
        "import os\n",
        "\n",
        "# Download latest version\n",
        "path = kagglehub.dataset_download(\"misrakahmed/vegetable-image-dataset\")\n",
        "path = os.path.join(path, 'Vegetable Images')\n",
        "print(\"Path to dataset files:\", path)"
      ]
    },
    {
      "cell_type": "markdown",
      "source": [
        "2. Преобразуем изображения в матрицу 64 х 64, извелкаем признаки с помощью SIFT и HOG, до добавляем статистические признаки, учитывающие цвет. Преобразуем их в одномерныи вектор и объединяем (1922 значении для каждого изображения)."
      ],
      "metadata": {
        "id": "qc4V8EIFKUmw"
      }
    },
    {
      "cell_type": "code",
      "source": [
        "!pip install optuna"
      ],
      "metadata": {
        "colab": {
          "base_uri": "https://localhost:8080/"
        },
        "id": "tyDVEg7JF9US",
        "outputId": "2c1650a2-4ce5-48b7-e6cd-0586556caf58"
      },
      "execution_count": null,
      "outputs": [
        {
          "output_type": "stream",
          "name": "stdout",
          "text": [
            "Requirement already satisfied: optuna in /usr/local/lib/python3.11/dist-packages (4.2.1)\n",
            "Requirement already satisfied: alembic>=1.5.0 in /usr/local/lib/python3.11/dist-packages (from optuna) (1.15.1)\n",
            "Requirement already satisfied: colorlog in /usr/local/lib/python3.11/dist-packages (from optuna) (6.9.0)\n",
            "Requirement already satisfied: numpy in /usr/local/lib/python3.11/dist-packages (from optuna) (1.26.4)\n",
            "Requirement already satisfied: packaging>=20.0 in /usr/local/lib/python3.11/dist-packages (from optuna) (24.2)\n",
            "Requirement already satisfied: sqlalchemy>=1.4.2 in /usr/local/lib/python3.11/dist-packages (from optuna) (2.0.38)\n",
            "Requirement already satisfied: tqdm in /usr/local/lib/python3.11/dist-packages (from optuna) (4.67.1)\n",
            "Requirement already satisfied: PyYAML in /usr/local/lib/python3.11/dist-packages (from optuna) (6.0.2)\n",
            "Requirement already satisfied: Mako in /usr/local/lib/python3.11/dist-packages (from alembic>=1.5.0->optuna) (1.3.9)\n",
            "Requirement already satisfied: typing-extensions>=4.12 in /usr/local/lib/python3.11/dist-packages (from alembic>=1.5.0->optuna) (4.12.2)\n",
            "Requirement already satisfied: greenlet!=0.4.17 in /usr/local/lib/python3.11/dist-packages (from sqlalchemy>=1.4.2->optuna) (3.1.1)\n",
            "Requirement already satisfied: MarkupSafe>=0.9.2 in /usr/local/lib/python3.11/dist-packages (from Mako->alembic>=1.5.0->optuna) (3.0.2)\n"
          ]
        }
      ]
    },
    {
      "cell_type": "code",
      "source": [
        "import cv2\n",
        "import numpy as np\n",
        "import random\n",
        "import joblib\n",
        "import optuna\n",
        "import matplotlib.pyplot as plt\n",
        "from matplotlib.patches import Patch\n",
        "from lightgbm import LGBMClassifier\n",
        "from sklearn.ensemble import RandomForestClassifier\n",
        "from sklearn.decomposition import PCA\n",
        "from sklearn.metrics import accuracy_score\n",
        "from sklearn.preprocessing import LabelEncoder\n",
        "from tqdm.auto import tqdm"
      ],
      "metadata": {
        "id": "4BpI7gK_vKuI"
      },
      "execution_count": null,
      "outputs": []
    },
    {
      "cell_type": "code",
      "source": [
        "# Путь к датасету\n",
        "base_dir = path\n",
        "categories = [\"train\", \"test\", \"validation\"]"
      ],
      "metadata": {
        "id": "ACwZFzie4d1U"
      },
      "execution_count": null,
      "outputs": []
    },
    {
      "cell_type": "code",
      "source": [
        "# Параметры\n",
        "IMAGE_SIZE = 64\n",
        "\n",
        "# Инициализация SIFT\n",
        "sift = cv2.SIFT_create()\n",
        "\n",
        "def extract_sift_features(image):\n",
        "    keypoints, descriptors = sift.detectAndCompute(image, None)\n",
        "    if descriptors is not None:\n",
        "        return descriptors.flatten()[:128]  # Ограничиваем размер\n",
        "    return np.zeros(128)  # Пустые изображения\n",
        "\n",
        "def extract_hog_features(image):\n",
        "    win_size = (64, 64)\n",
        "    cell_size = (8, 8)\n",
        "    block_size = (16, 16)\n",
        "    block_stride = (8, 8)\n",
        "    nbins = 9\n",
        "    hog = cv2.HOGDescriptor(win_size, block_size, block_stride, cell_size, nbins)\n",
        "    return hog.compute(image).flatten()\n",
        "\n",
        "def extract_colour_features(image):\n",
        "    image = (cv2.resize(image, (IMAGE_SIZE, IMAGE_SIZE)) * 255).astype(np.uint8)  # Приводим к uint8\n",
        "    converted_img = cv2.cvtColor(image, cv2.COLOR_BGR2RGB)\n",
        "    features = []\n",
        "    for i in range(3):\n",
        "        channel = converted_img[:, :, i]\n",
        "        features.extend([\n",
        "            np.mean(channel), np.std(channel), np.median(channel),\n",
        "            np.min(channel), np.max(channel),\n",
        "            np.percentile(channel, 25), np.percentile(channel, 75),\n",
        "            np.mean(((channel - np.mean(channel)) / (np.std(channel) + 1e-10)) ** 3) if np.std(channel) > 0 else 0,\n",
        "            np.mean(((channel - np.mean(channel)) / (np.std(channel) + 1e-10)) ** 4) - 3 if np.std(channel) > 0 else 0\n",
        "        ])\n",
        "    corr_01 = np.corrcoef(converted_img[:, :, 0].flatten(), converted_img[:, :, 1].flatten())[0, 1]\n",
        "    corr_02 = np.corrcoef(converted_img[:, :, 0].flatten(), converted_img[:, :, 2].flatten())[0, 1]\n",
        "    corr_12 = np.corrcoef(converted_img[:, :, 1].flatten(), converted_img[:, :, 2].flatten())[0, 1]\n",
        "    features.extend([corr_01, corr_02, corr_12])\n",
        "    return np.array(features)\n",
        "\n",
        "def load_images_and_labels(base_dir, category):\n",
        "    images = []\n",
        "    labels = []\n",
        "    path = os.path.join(base_dir, category)\n",
        "\n",
        "    for class_name in tqdm(os.listdir(path)):\n",
        "        class_dir = os.path.join(path, class_name)\n",
        "        if not os.path.isdir(class_dir):\n",
        "            continue\n",
        "\n",
        "        for img_name in os.listdir(class_dir):\n",
        "            img_path = os.path.join(class_dir, img_name)\n",
        "            img = cv2.imread(img_path, cv2.IMREAD_COLOR)\n",
        "            if img is not None:\n",
        "                img = cv2.resize(img, (IMAGE_SIZE, IMAGE_SIZE)) / 255.0  # Нормализация\n",
        "                gray_img = cv2.cvtColor((img * 255).astype(np.uint8), cv2.COLOR_BGR2GRAY)  # Приводим к uint8\n",
        "\n",
        "                colour_features = extract_colour_features(img)\n",
        "                sift_features = extract_sift_features(gray_img)\n",
        "                hog_features = extract_hog_features(gray_img)\n",
        "\n",
        "                combined_features = np.concatenate((sift_features, hog_features, colour_features))\n",
        "                images.append(combined_features)\n",
        "                labels.append(class_name)\n",
        "\n",
        "    return np.array(images), np.array(labels)\n",
        "\n",
        "# Загружаем данные\n",
        "train_images, train_labels = load_images_and_labels(base_dir, \"train\")\n",
        "test_images, test_labels = load_images_and_labels(base_dir, \"test\")\n",
        "\n",
        "# Кодируем категориальные признаки\n",
        "encoder = LabelEncoder()\n",
        "train_labels = encoder.fit_transform(train_labels)\n",
        "test_labels = encoder.transform(test_labels)\n",
        "\n",
        "# Функция для оптимизации гиперпараметров\n",
        "def objective(trial):\n",
        "    n_estimators = trial.suggest_int(\"n_estimators\", 50, 300, step=50)\n",
        "    learning_rate = trial.suggest_float(\"learning_rate\", 0.01, 0.3, log=True)\n",
        "    max_depth = trial.suggest_int(\"max_depth\", 3, 15)\n",
        "    num_leaves = trial.suggest_int(\"num_leaves\", 10, 100, step=10)\n",
        "\n",
        "    model = LGBMClassifier(\n",
        "        n_estimators=n_estimators,\n",
        "        learning_rate=learning_rate,\n",
        "        max_depth=max_depth,\n",
        "        num_leaves=num_leaves,\n",
        "        force_col_wise=True,\n",
        "        verbosity=-1,\n",
        "        random_state=42\n",
        "    )\n",
        "\n",
        "    model.fit(train_images, train_labels)\n",
        "    test_preds = model.predict(test_images)\n",
        "    accuracy = accuracy_score(test_labels, test_preds)\n",
        "    return accuracy\n",
        "\n",
        "# Оптимизация параметров\n",
        "study = optuna.create_study(direction=\"maximize\")\n",
        "study.optimize(objective, n_trials=20)\n",
        "\n",
        "# Лучшие параметры\n",
        "best_params = study.best_params\n",
        "print(\"Лучшие параметры:\", best_params)"
      ],
      "metadata": {
        "colab": {
          "base_uri": "https://localhost:8080/",
          "height": 1000,
          "referenced_widgets": [
            "aa57f2c27437450e99896ad7254fa90b",
            "7f380e4d338f4b1294cdca7f00da5f41",
            "c6a624d7b8254670afbec89e9c371b25",
            "b09fb55e015f4eeb9a4e4a41ff6c29e2",
            "10ee9fb374564af486ad5d0296451baf",
            "2ca412edd86a44dfb471b999441a410b",
            "5bdc6009214048f28ca3db96220d70c1",
            "28e9b191cb5a48da893a1406ac3d44a9",
            "5b4d0193089149bfaeb0c4bc28e04cd8",
            "06eaa391fa2648278e99e3dc1bd50ac3",
            "710f7e7d3bff48eca0794d97f85c4221",
            "9352a8715c064777a635a49181403ebd",
            "84f0105141c34e2f8ef7e4a313d2f96e",
            "36be80027c1c4d01b780210d3932083f",
            "c1def80af3e04ee1b9ea66e2025fc1e2",
            "ab991e19419d43c883d696008e68168e",
            "5a3edce3c16844bd8de93d6575ad0d4b",
            "ee3fdfce8391481cb71fa567847f157e",
            "e38cc735ed524dad84d5ec72fb4259dd",
            "3df13c3be2e54d7eaedc931413fc7533",
            "ef9edc4aa161475a988500663a80212a",
            "bec34a85530143adbdc24931bed9d0c8"
          ]
        },
        "id": "YWy6clS2u7O0",
        "outputId": "8673f1a4-f504-41ba-93c9-4643386d9e39"
      },
      "execution_count": null,
      "outputs": [
        {
          "output_type": "display_data",
          "data": {
            "text/plain": [
              "  0%|          | 0/15 [00:00<?, ?it/s]"
            ],
            "application/vnd.jupyter.widget-view+json": {
              "version_major": 2,
              "version_minor": 0,
              "model_id": "aa57f2c27437450e99896ad7254fa90b"
            }
          },
          "metadata": {}
        },
        {
          "output_type": "display_data",
          "data": {
            "text/plain": [
              "  0%|          | 0/15 [00:00<?, ?it/s]"
            ],
            "application/vnd.jupyter.widget-view+json": {
              "version_major": 2,
              "version_minor": 0,
              "model_id": "9352a8715c064777a635a49181403ebd"
            }
          },
          "metadata": {}
        },
        {
          "output_type": "stream",
          "name": "stderr",
          "text": [
            "[I 2025-03-12 21:24:08,886] A new study created in memory with name: no-name-c648ced5-0b0b-4dc8-8a9f-1689b7f4a376\n",
            "/usr/local/lib/python3.11/dist-packages/sklearn/utils/deprecation.py:151: FutureWarning: 'force_all_finite' was renamed to 'ensure_all_finite' in 1.6 and will be removed in 1.8.\n",
            "  warnings.warn(\n",
            "/usr/local/lib/python3.11/dist-packages/sklearn/utils/deprecation.py:151: FutureWarning: 'force_all_finite' was renamed to 'ensure_all_finite' in 1.6 and will be removed in 1.8.\n",
            "  warnings.warn(\n",
            "[I 2025-03-12 21:36:39,404] Trial 0 finished with value: 0.976 and parameters: {'n_estimators': 250, 'learning_rate': 0.17624355097040204, 'max_depth': 14, 'num_leaves': 10}. Best is trial 0 with value: 0.976.\n",
            "/usr/local/lib/python3.11/dist-packages/sklearn/utils/deprecation.py:151: FutureWarning: 'force_all_finite' was renamed to 'ensure_all_finite' in 1.6 and will be removed in 1.8.\n",
            "  warnings.warn(\n",
            "/usr/local/lib/python3.11/dist-packages/sklearn/utils/deprecation.py:151: FutureWarning: 'force_all_finite' was renamed to 'ensure_all_finite' in 1.6 and will be removed in 1.8.\n",
            "  warnings.warn(\n",
            "[I 2025-03-12 22:00:43,750] Trial 1 finished with value: 0.972 and parameters: {'n_estimators': 250, 'learning_rate': 0.10535051841417324, 'max_depth': 10, 'num_leaves': 80}. Best is trial 0 with value: 0.976.\n",
            "/usr/local/lib/python3.11/dist-packages/sklearn/utils/deprecation.py:151: FutureWarning: 'force_all_finite' was renamed to 'ensure_all_finite' in 1.6 and will be removed in 1.8.\n",
            "  warnings.warn(\n",
            "/usr/local/lib/python3.11/dist-packages/sklearn/utils/deprecation.py:151: FutureWarning: 'force_all_finite' was renamed to 'ensure_all_finite' in 1.6 and will be removed in 1.8.\n",
            "  warnings.warn(\n",
            "[I 2025-03-12 22:11:03,075] Trial 2 finished with value: 0.967 and parameters: {'n_estimators': 200, 'learning_rate': 0.07506656169997185, 'max_depth': 4, 'num_leaves': 30}. Best is trial 0 with value: 0.976.\n",
            "/usr/local/lib/python3.11/dist-packages/sklearn/utils/deprecation.py:151: FutureWarning: 'force_all_finite' was renamed to 'ensure_all_finite' in 1.6 and will be removed in 1.8.\n",
            "  warnings.warn(\n",
            "/usr/local/lib/python3.11/dist-packages/sklearn/utils/deprecation.py:151: FutureWarning: 'force_all_finite' was renamed to 'ensure_all_finite' in 1.6 and will be removed in 1.8.\n",
            "  warnings.warn(\n",
            "[I 2025-03-12 22:21:18,363] Trial 3 finished with value: 0.972 and parameters: {'n_estimators': 100, 'learning_rate': 0.1659350381586458, 'max_depth': 9, 'num_leaves': 30}. Best is trial 0 with value: 0.976.\n",
            "/usr/local/lib/python3.11/dist-packages/sklearn/utils/deprecation.py:151: FutureWarning: 'force_all_finite' was renamed to 'ensure_all_finite' in 1.6 and will be removed in 1.8.\n",
            "  warnings.warn(\n",
            "/usr/local/lib/python3.11/dist-packages/sklearn/utils/deprecation.py:151: FutureWarning: 'force_all_finite' was renamed to 'ensure_all_finite' in 1.6 and will be removed in 1.8.\n",
            "  warnings.warn(\n",
            "[I 2025-03-12 22:32:41,757] Trial 4 finished with value: 0.9673333333333334 and parameters: {'n_estimators': 100, 'learning_rate': 0.19672660256966962, 'max_depth': 10, 'num_leaves': 70}. Best is trial 0 with value: 0.976.\n",
            "/usr/local/lib/python3.11/dist-packages/sklearn/utils/deprecation.py:151: FutureWarning: 'force_all_finite' was renamed to 'ensure_all_finite' in 1.6 and will be removed in 1.8.\n",
            "  warnings.warn(\n",
            "/usr/local/lib/python3.11/dist-packages/sklearn/utils/deprecation.py:151: FutureWarning: 'force_all_finite' was renamed to 'ensure_all_finite' in 1.6 and will be removed in 1.8.\n",
            "  warnings.warn(\n",
            "[I 2025-03-12 22:44:15,394] Trial 5 finished with value: 0.954 and parameters: {'n_estimators': 50, 'learning_rate': 0.07205015547268297, 'max_depth': 12, 'num_leaves': 70}. Best is trial 0 with value: 0.976.\n",
            "/usr/local/lib/python3.11/dist-packages/sklearn/utils/deprecation.py:151: FutureWarning: 'force_all_finite' was renamed to 'ensure_all_finite' in 1.6 and will be removed in 1.8.\n",
            "  warnings.warn(\n",
            "/usr/local/lib/python3.11/dist-packages/sklearn/utils/deprecation.py:151: FutureWarning: 'force_all_finite' was renamed to 'ensure_all_finite' in 1.6 and will be removed in 1.8.\n",
            "  warnings.warn(\n",
            "[I 2025-03-12 22:51:45,494] Trial 6 finished with value: 0.921 and parameters: {'n_estimators': 50, 'learning_rate': 0.015574541187578256, 'max_depth': 12, 'num_leaves': 40}. Best is trial 0 with value: 0.976.\n",
            "/usr/local/lib/python3.11/dist-packages/sklearn/utils/deprecation.py:151: FutureWarning: 'force_all_finite' was renamed to 'ensure_all_finite' in 1.6 and will be removed in 1.8.\n",
            "  warnings.warn(\n",
            "/usr/local/lib/python3.11/dist-packages/sklearn/utils/deprecation.py:151: FutureWarning: 'force_all_finite' was renamed to 'ensure_all_finite' in 1.6 and will be removed in 1.8.\n",
            "  warnings.warn(\n",
            "[I 2025-03-12 23:10:26,111] Trial 7 finished with value: 0.9576666666666667 and parameters: {'n_estimators': 200, 'learning_rate': 0.026257255642106646, 'max_depth': 11, 'num_leaves': 20}. Best is trial 0 with value: 0.976.\n",
            "/usr/local/lib/python3.11/dist-packages/sklearn/utils/deprecation.py:151: FutureWarning: 'force_all_finite' was renamed to 'ensure_all_finite' in 1.6 and will be removed in 1.8.\n",
            "  warnings.warn(\n",
            "/usr/local/lib/python3.11/dist-packages/sklearn/utils/deprecation.py:151: FutureWarning: 'force_all_finite' was renamed to 'ensure_all_finite' in 1.6 and will be removed in 1.8.\n",
            "  warnings.warn(\n",
            "[I 2025-03-12 23:17:38,722] Trial 8 finished with value: 0.944 and parameters: {'n_estimators': 50, 'learning_rate': 0.06394614370978229, 'max_depth': 8, 'num_leaves': 40}. Best is trial 0 with value: 0.976.\n",
            "/usr/local/lib/python3.11/dist-packages/sklearn/utils/deprecation.py:151: FutureWarning: 'force_all_finite' was renamed to 'ensure_all_finite' in 1.6 and will be removed in 1.8.\n",
            "  warnings.warn(\n",
            "/usr/local/lib/python3.11/dist-packages/sklearn/utils/deprecation.py:151: FutureWarning: 'force_all_finite' was renamed to 'ensure_all_finite' in 1.6 and will be removed in 1.8.\n",
            "  warnings.warn(\n",
            "[I 2025-03-12 23:22:20,010] Trial 9 finished with value: 0.9233333333333333 and parameters: {'n_estimators': 100, 'learning_rate': 0.04114002548293911, 'max_depth': 4, 'num_leaves': 10}. Best is trial 0 with value: 0.976.\n",
            "/usr/local/lib/python3.11/dist-packages/sklearn/utils/deprecation.py:151: FutureWarning: 'force_all_finite' was renamed to 'ensure_all_finite' in 1.6 and will be removed in 1.8.\n",
            "  warnings.warn(\n",
            "/usr/local/lib/python3.11/dist-packages/sklearn/utils/deprecation.py:151: FutureWarning: 'force_all_finite' was renamed to 'ensure_all_finite' in 1.6 and will be removed in 1.8.\n",
            "  warnings.warn(\n",
            "[I 2025-03-12 23:36:12,559] Trial 10 finished with value: 0.965 and parameters: {'n_estimators': 300, 'learning_rate': 0.27451579472754034, 'max_depth': 15, 'num_leaves': 100}. Best is trial 0 with value: 0.976.\n",
            "/usr/local/lib/python3.11/dist-packages/sklearn/utils/deprecation.py:151: FutureWarning: 'force_all_finite' was renamed to 'ensure_all_finite' in 1.6 and will be removed in 1.8.\n",
            "  warnings.warn(\n",
            "/usr/local/lib/python3.11/dist-packages/sklearn/utils/deprecation.py:151: FutureWarning: 'force_all_finite' was renamed to 'ensure_all_finite' in 1.6 and will be removed in 1.8.\n",
            "  warnings.warn(\n",
            "[I 2025-03-12 23:58:58,239] Trial 11 finished with value: 0.9686666666666667 and parameters: {'n_estimators': 300, 'learning_rate': 0.12603029908422092, 'max_depth': 15, 'num_leaves': 90}. Best is trial 0 with value: 0.976.\n",
            "/usr/local/lib/python3.11/dist-packages/sklearn/utils/deprecation.py:151: FutureWarning: 'force_all_finite' was renamed to 'ensure_all_finite' in 1.6 and will be removed in 1.8.\n",
            "  warnings.warn(\n",
            "/usr/local/lib/python3.11/dist-packages/sklearn/utils/deprecation.py:151: FutureWarning: 'force_all_finite' was renamed to 'ensure_all_finite' in 1.6 and will be removed in 1.8.\n",
            "  warnings.warn(\n",
            "[I 2025-03-13 00:18:36,947] Trial 12 finished with value: 0.9706666666666667 and parameters: {'n_estimators': 250, 'learning_rate': 0.11435837188442233, 'max_depth': 7, 'num_leaves': 70}. Best is trial 0 with value: 0.976.\n",
            "/usr/local/lib/python3.11/dist-packages/sklearn/utils/deprecation.py:151: FutureWarning: 'force_all_finite' was renamed to 'ensure_all_finite' in 1.6 and will be removed in 1.8.\n",
            "  warnings.warn(\n",
            "/usr/local/lib/python3.11/dist-packages/sklearn/utils/deprecation.py:151: FutureWarning: 'force_all_finite' was renamed to 'ensure_all_finite' in 1.6 and will be removed in 1.8.\n",
            "  warnings.warn(\n",
            "[I 2025-03-13 00:29:36,066] Trial 13 finished with value: 0.9646666666666667 and parameters: {'n_estimators': 250, 'learning_rate': 0.2945914890980009, 'max_depth': 13, 'num_leaves': 60}. Best is trial 0 with value: 0.976.\n",
            "/usr/local/lib/python3.11/dist-packages/sklearn/utils/deprecation.py:151: FutureWarning: 'force_all_finite' was renamed to 'ensure_all_finite' in 1.6 and will be removed in 1.8.\n",
            "  warnings.warn(\n",
            "/usr/local/lib/python3.11/dist-packages/sklearn/utils/deprecation.py:151: FutureWarning: 'force_all_finite' was renamed to 'ensure_all_finite' in 1.6 and will be removed in 1.8.\n",
            "  warnings.warn(\n",
            "[I 2025-03-13 00:50:11,415] Trial 14 finished with value: 0.9703333333333334 and parameters: {'n_estimators': 250, 'learning_rate': 0.11180304385532729, 'max_depth': 7, 'num_leaves': 90}. Best is trial 0 with value: 0.976.\n",
            "/usr/local/lib/python3.11/dist-packages/sklearn/utils/deprecation.py:151: FutureWarning: 'force_all_finite' was renamed to 'ensure_all_finite' in 1.6 and will be removed in 1.8.\n",
            "  warnings.warn(\n",
            "/usr/local/lib/python3.11/dist-packages/sklearn/utils/deprecation.py:151: FutureWarning: 'force_all_finite' was renamed to 'ensure_all_finite' in 1.6 and will be removed in 1.8.\n",
            "  warnings.warn(\n",
            "[I 2025-03-13 01:26:55,386] Trial 15 finished with value: 0.9656666666666667 and parameters: {'n_estimators': 200, 'learning_rate': 0.03927762680144819, 'max_depth': 14, 'num_leaves': 50}. Best is trial 0 with value: 0.976.\n",
            "/usr/local/lib/python3.11/dist-packages/sklearn/utils/deprecation.py:151: FutureWarning: 'force_all_finite' was renamed to 'ensure_all_finite' in 1.6 and will be removed in 1.8.\n",
            "  warnings.warn(\n",
            "/usr/local/lib/python3.11/dist-packages/sklearn/utils/deprecation.py:151: FutureWarning: 'force_all_finite' was renamed to 'ensure_all_finite' in 1.6 and will be removed in 1.8.\n",
            "  warnings.warn(\n",
            "[I 2025-03-13 01:35:27,099] Trial 16 finished with value: 0.972 and parameters: {'n_estimators': 150, 'learning_rate': 0.16999528839724798, 'max_depth': 10, 'num_leaves': 10}. Best is trial 0 with value: 0.976.\n",
            "/usr/local/lib/python3.11/dist-packages/sklearn/utils/deprecation.py:151: FutureWarning: 'force_all_finite' was renamed to 'ensure_all_finite' in 1.6 and will be removed in 1.8.\n",
            "  warnings.warn(\n",
            "/usr/local/lib/python3.11/dist-packages/sklearn/utils/deprecation.py:151: FutureWarning: 'force_all_finite' was renamed to 'ensure_all_finite' in 1.6 and will be removed in 1.8.\n",
            "  warnings.warn(\n",
            "[I 2025-03-13 02:02:29,031] Trial 17 finished with value: 0.968 and parameters: {'n_estimators': 300, 'learning_rate': 0.09245526489518868, 'max_depth': 13, 'num_leaves': 80}. Best is trial 0 with value: 0.976.\n",
            "/usr/local/lib/python3.11/dist-packages/sklearn/utils/deprecation.py:151: FutureWarning: 'force_all_finite' was renamed to 'ensure_all_finite' in 1.6 and will be removed in 1.8.\n",
            "  warnings.warn(\n",
            "/usr/local/lib/python3.11/dist-packages/sklearn/utils/deprecation.py:151: FutureWarning: 'force_all_finite' was renamed to 'ensure_all_finite' in 1.6 and will be removed in 1.8.\n",
            "  warnings.warn(\n",
            "[I 2025-03-13 02:14:15,218] Trial 18 finished with value: 0.97 and parameters: {'n_estimators': 250, 'learning_rate': 0.2104158494779271, 'max_depth': 6, 'num_leaves': 50}. Best is trial 0 with value: 0.976.\n",
            "/usr/local/lib/python3.11/dist-packages/sklearn/utils/deprecation.py:151: FutureWarning: 'force_all_finite' was renamed to 'ensure_all_finite' in 1.6 and will be removed in 1.8.\n",
            "  warnings.warn(\n",
            "/usr/local/lib/python3.11/dist-packages/sklearn/utils/deprecation.py:151: FutureWarning: 'force_all_finite' was renamed to 'ensure_all_finite' in 1.6 and will be removed in 1.8.\n",
            "  warnings.warn(\n",
            "[I 2025-03-13 02:53:33,716] Trial 19 finished with value: 0.9636666666666667 and parameters: {'n_estimators': 150, 'learning_rate': 0.05149995613487586, 'max_depth': 11, 'num_leaves': 100}. Best is trial 0 with value: 0.976.\n"
          ]
        },
        {
          "output_type": "stream",
          "name": "stdout",
          "text": [
            "Лучшие параметры: {'n_estimators': 250, 'learning_rate': 0.17624355097040204, 'max_depth': 14, 'num_leaves': 10}\n"
          ]
        }
      ]
    },
    {
      "cell_type": "code",
      "source": [
        "# Обучение модели с параметрами по умолчанию\n",
        "model_rf = RandomForestClassifier(random_state=42, n_jobs=-1)\n",
        "model_rf.fit(train_images, train_labels)\n",
        "\n",
        "# Оценка модели\n",
        "test_rf_preds = model_rf.predict(test_images)\n",
        "accuracy = accuracy_score(test_labels, test_rf_preds)\n",
        "print(f\"Точность модели: {accuracy:.3f}\")"
      ],
      "metadata": {
        "colab": {
          "base_uri": "https://localhost:8080/"
        },
        "id": "Prr_j2sImqm6",
        "outputId": "b038ef62-43b2-4c18-a36c-c1b92085cc4d"
      },
      "execution_count": null,
      "outputs": [
        {
          "output_type": "stream",
          "name": "stdout",
          "text": [
            "Точность модели: 0.918\n"
          ]
        }
      ]
    },
    {
      "cell_type": "markdown",
      "source": [
        "После добавления новых цветовых признаков мы обучили модель RandomForestClassifier с параметрами по умолчанию. Точность модели значительно возросла: с 0.74 до 0.918. Это подтверждает, что использование цветовой информации действительно вносит вклад в повышение качества классификации."
      ],
      "metadata": {
        "id": "S3kMrSUa7ceZ"
      }
    },
    {
      "cell_type": "code",
      "source": [
        "# Обучение модели с параметрами по умолчанию\n",
        "model_LGBM = LGBMClassifier(force_col_wise=True, verbosity=-1, random_state=42)\n",
        "model_LGBM.fit(train_images, train_labels)\n",
        "\n",
        "# Оценка модели\n",
        "test_LGBM_preds = model_LGBM.predict(test_images)\n",
        "accuracy = accuracy_score(test_labels, test_LGBM_preds)\n",
        "print(f\"Точность модели: {accuracy:.3f}\")"
      ],
      "metadata": {
        "colab": {
          "base_uri": "https://localhost:8080/"
        },
        "id": "y356elqNjeWA",
        "outputId": "eeeb33b6-2cba-4dbb-c164-6765d9c1522b"
      },
      "execution_count": null,
      "outputs": [
        {
          "output_type": "stream",
          "name": "stderr",
          "text": [
            "/usr/local/lib/python3.11/dist-packages/sklearn/utils/deprecation.py:151: FutureWarning: 'force_all_finite' was renamed to 'ensure_all_finite' in 1.6 and will be removed in 1.8.\n",
            "  warnings.warn(\n",
            "/usr/local/lib/python3.11/dist-packages/sklearn/utils/deprecation.py:151: FutureWarning: 'force_all_finite' was renamed to 'ensure_all_finite' in 1.6 and will be removed in 1.8.\n",
            "  warnings.warn(\n"
          ]
        },
        {
          "output_type": "stream",
          "name": "stdout",
          "text": [
            "Точность модели: 0.969\n"
          ]
        }
      ]
    },
    {
      "cell_type": "markdown",
      "source": [
        "Далее мы провели сравнение различных классификаторов, включая CatBoost, XGBoost и LightGBM, чтобы определить наиболее эффективный алгоритм для нашей задачи. Наилучшие результаты продемонстрировал LightGBM, который показал точность 0.969.\n",
        "\n",
        "Использование LightGBM позволило добиться более высокой точности благодаря его способности эффективно работать с большим числом признаков и автоматическому учёту их важности. В дальнейшем мы рассмотрим, какие признаки оказали наибольшее влияние на итоговую точность модели и проведём их анализ."
      ],
      "metadata": {
        "id": "1ZxSp-jk8WsO"
      }
    },
    {
      "cell_type": "code",
      "source": [
        "# Обучаем финальную модель и выводим важность признаков\n",
        "best_model = LGBMClassifier(**best_params, force_col_wise=True, verbosity=-1, random_state=42)\n",
        "best_model.fit(train_images, train_labels)\n",
        "\n",
        "# Делаем предсказания и оцениваем качество\n",
        "test_preds_best = best_model.predict(test_images)\n",
        "accuracy_best = accuracy_score(test_labels, test_preds_best)\n",
        "print(f\"Лучшая точность на тестовом наборе: {accuracy_best:.3f}\")"
      ],
      "metadata": {
        "id": "-xQHzFOj83k4",
        "colab": {
          "base_uri": "https://localhost:8080/"
        },
        "outputId": "27babe3a-e9a2-48e0-b4e5-17bbd75fdf61"
      },
      "execution_count": null,
      "outputs": [
        {
          "output_type": "stream",
          "name": "stderr",
          "text": [
            "/usr/local/lib/python3.11/dist-packages/sklearn/utils/deprecation.py:151: FutureWarning: 'force_all_finite' was renamed to 'ensure_all_finite' in 1.6 and will be removed in 1.8.\n",
            "  warnings.warn(\n",
            "/usr/local/lib/python3.11/dist-packages/sklearn/utils/deprecation.py:151: FutureWarning: 'force_all_finite' was renamed to 'ensure_all_finite' in 1.6 and will be removed in 1.8.\n",
            "  warnings.warn(\n"
          ]
        },
        {
          "output_type": "stream",
          "name": "stdout",
          "text": [
            "Лучшая точность на тестовом наборе: 0.976\n"
          ]
        }
      ]
    },
    {
      "cell_type": "markdown",
      "source": [
        "После применения оптимизации, точность модели на тестовом наборе увеличилась с 0.969 до 0.976, что подтверждает эффективность подбора параметров. Улучшение качества связано с тем, что Optuna позволяет найти баланс между глубиной деревьев, числом листьев и скоростью обучения, что особенно важно при работе с большим количеством признаков."
      ],
      "metadata": {
        "id": "aKQnDR2i84TJ"
      }
    },
    {
      "cell_type": "code",
      "source": [
        "# Сохраняем лучшую модель в pkl\n",
        "joblib.dump(best_model, \"best_model.pkl\")\n",
        "\n",
        "print(\"Модель успешно сохранена в best_model.pkl\")"
      ],
      "metadata": {
        "id": "0J3YlYMFKWs6",
        "colab": {
          "base_uri": "https://localhost:8080/"
        },
        "outputId": "103ae3dc-1303-4c2c-cf32-16b1882ef6f3"
      },
      "execution_count": null,
      "outputs": [
        {
          "output_type": "stream",
          "name": "stdout",
          "text": [
            "Модель успешно сохранена в best_model.pkl\n"
          ]
        }
      ]
    },
    {
      "cell_type": "code",
      "source": [
        "def plot_feature_importance(model):\n",
        "    \"\"\"\n",
        "    Функция строит две гистограммы:\n",
        "    1. Топ-60 самых важных признаков\n",
        "    2. Топ-60 наименее важных признаков\n",
        "    \"\"\"\n",
        "    feature_importances = model.feature_importances_\n",
        "    num_features = len(feature_importances)\n",
        "    feature_names = [f\"Feature {i+1}\" for i in range(num_features)]\n",
        "\n",
        "    # Определение границ признаков\n",
        "    sift_features_count = 128\n",
        "    hog_features_count = 1764\n",
        "    color_features_count = 30\n",
        "\n",
        "    colors = (['green'] * sift_features_count +\n",
        "              ['red'] * hog_features_count +\n",
        "              ['blue'] * color_features_count)\n",
        "\n",
        "    # Получаем индексы топ-60 самых важных и наименее важных признаков\n",
        "    top_60_indices = np.argsort(feature_importances)[::-1][:60]\n",
        "    least_60_indices = np.argsort(feature_importances)[:60]\n",
        "\n",
        "    # Данные для топ-60 важных признаков\n",
        "    top_60_importances = feature_importances[top_60_indices]\n",
        "    top_60_feature_names = [feature_names[i] for i in top_60_indices]\n",
        "    top_60_colors = [colors[i] for i in top_60_indices]\n",
        "\n",
        "    # Данные для топ-60 наименее важных признаков\n",
        "    least_60_importances = feature_importances[least_60_indices]\n",
        "    least_60_feature_names = [feature_names[i] for i in least_60_indices]\n",
        "    least_60_colors = [colors[i] for i in least_60_indices]\n",
        "\n",
        "    # Создаём две гистограммы\n",
        "    fig, axes = plt.subplots(1, 2, figsize=(18, 6))\n",
        "\n",
        "    # Гистограмма для самых важных признаков\n",
        "    axes[0].bar(range(60), top_60_importances, color=top_60_colors)\n",
        "    axes[0].set_xlabel(\"Признаки\")\n",
        "    axes[0].set_ylabel(\"Важность\")\n",
        "    axes[0].set_title(\"Топ-60 самых важных признаков\")\n",
        "    axes[0].set_xticks(range(60))\n",
        "    axes[0].set_xticklabels(top_60_feature_names, rotation=90, fontsize=8)\n",
        "\n",
        "    # Гистограмма для наименее важных признаков\n",
        "    axes[1].bar(range(60), least_60_importances, color=least_60_colors)\n",
        "    axes[1].set_xlabel(\"Признаки\")\n",
        "    axes[1].set_ylabel(\"Важность\")\n",
        "    axes[1].set_title(\"Топ-60 наименее важных признаков\")\n",
        "    axes[1].set_xticks(range(60))\n",
        "    axes[1].set_xticklabels(least_60_feature_names, rotation=90, fontsize=8)\n",
        "\n",
        "    # Добавление общей легенды\n",
        "    legend_elements = [\n",
        "        Patch(facecolor='green', label='SIFT признаки'),\n",
        "        Patch(facecolor='red', label='HOG признаки'),\n",
        "        Patch(facecolor='blue', label='Цветовые признаки')\n",
        "    ]\n",
        "    fig.legend(handles=legend_elements, loc='upper right')\n",
        "\n",
        "    plt.tight_layout()\n",
        "    plt.show()\n",
        "\n",
        "# Вызов функции с моделью\n",
        "plot_feature_importance(best_model)"
      ],
      "metadata": {
        "colab": {
          "base_uri": "https://localhost:8080/",
          "height": 387
        },
        "id": "lxWtNTUWueqK",
        "outputId": "40c42fcd-26e3-4589-afef-24a399daf634"
      },
      "execution_count": null,
      "outputs": [
        {
          "output_type": "display_data",
          "data": {
            "text/plain": [
              "<Figure size 1800x600 with 2 Axes>"
            ],
            "image/png": "[encoded data removed]"
          },
          "metadata": {}
        }
      ]
    },
    {
      "cell_type": "markdown",
      "source": [
        "**Выводы:**\n",
        "\n",
        "1. Добавление цветовых признаков позволило значительно улучшить качество классификации по сравнению с использованием только текстурных признаков (SIFT, HOG).\n",
        "2. Оптимизация модели с использованием **Optuna** помогла подобрать наилучшие гиперпараметры, что привело к увеличению точности модели.\n",
        "3. Важность признаков показала, что цветовые характеристики оказались наиболее значимыми, тогда как некоторые SIFT и HOG признаки имели низкую значимость.\n",
        "4. Итоговая модель на основе **LightGBM** с оптимальными параметрами достигла точности **0.976**, что свидетельствует о высокой эффективности предложенного подхода.\n",
        "\n"
      ],
      "metadata": {
        "id": "2eVblDL79naa"
      }
    }
  ],
  "metadata": {
    "colab": {
      "provenance": [],
      "include_colab_link": true
    },
    "kernelspec": {
      "display_name": "Python 3",
      "name": "python3"
    },
    "language_info": {
      "name": "python"
    },
    "widgets": {
      "application/vnd.jupyter.widget-state+json": {
        "aa57f2c27437450e99896ad7254fa90b": {
          "model_module": "@jupyter-widgets/controls",
          "model_name": "HBoxModel",
          "model_module_version": "1.5.0",
          "state": {
            "_dom_classes": [],
            "_model_module": "@jupyter-widgets/controls",
            "_model_module_version": "1.5.0",
            "_model_name": "HBoxModel",
            "_view_count": null,
            "_view_module": "@jupyter-widgets/controls",
            "_view_module_version": "1.5.0",
            "_view_name": "HBoxView",
            "box_style": "",
            "children": [
              "IPY_MODEL_7f380e4d338f4b1294cdca7f00da5f41",
              "IPY_MODEL_c6a624d7b8254670afbec89e9c371b25",
              "IPY_MODEL_b09fb55e015f4eeb9a4e4a41ff6c29e2"
            ],
            "layout": "IPY_MODEL_10ee9fb374564af486ad5d0296451baf"
          }
        },
        "7f380e4d338f4b1294cdca7f00da5f41": {
          "model_module": "@jupyter-widgets/controls",
          "model_name": "HTMLModel",
          "model_module_version": "1.5.0",
          "state": {
            "_dom_classes": [],
            "_model_module": "@jupyter-widgets/controls",
            "_model_module_version": "1.5.0",
            "_model_name": "HTMLModel",
            "_view_count": null,
            "_view_module": "@jupyter-widgets/controls",
            "_view_module_version": "1.5.0",
            "_view_name": "HTMLView",
            "description": "",
            "description_tooltip": null,
            "layout": "IPY_MODEL_2ca412edd86a44dfb471b999441a410b",
            "placeholder": "​",
            "style": "IPY_MODEL_5bdc6009214048f28ca3db96220d70c1",
            "value": "100%"
          }
        },
        "c6a624d7b8254670afbec89e9c371b25": {
          "model_module": "@jupyter-widgets/controls",
          "model_name": "FloatProgressModel",
          "model_module_version": "1.5.0",
          "state": {
            "_dom_classes": [],
            "_model_module": "@jupyter-widgets/controls",
            "_model_module_version": "1.5.0",
            "_model_name": "FloatProgressModel",
            "_view_count": null,
            "_view_module": "@jupyter-widgets/controls",
            "_view_module_version": "1.5.0",
            "_view_name": "ProgressView",
            "bar_style": "success",
            "description": "",
            "description_tooltip": null,
            "layout": "IPY_MODEL_28e9b191cb5a48da893a1406ac3d44a9",
            "max": 15,
            "min": 0,
            "orientation": "horizontal",
            "style": "IPY_MODEL_5b4d0193089149bfaeb0c4bc28e04cd8",
            "value": 15
          }
        },
        "b09fb55e015f4eeb9a4e4a41ff6c29e2": {
          "model_module": "@jupyter-widgets/controls",
          "model_name": "HTMLModel",
          "model_module_version": "1.5.0",
          "state": {
            "_dom_classes": [],
            "_model_module": "@jupyter-widgets/controls",
            "_model_module_version": "1.5.0",
            "_model_name": "HTMLModel",
            "_view_count": null,
            "_view_module": "@jupyter-widgets/controls",
            "_view_module_version": "1.5.0",
            "_view_name": "HTMLView",
            "description": "",
            "description_tooltip": null,
            "layout": "IPY_MODEL_06eaa391fa2648278e99e3dc1bd50ac3",
            "placeholder": "​",
            "style": "IPY_MODEL_710f7e7d3bff48eca0794d97f85c4221",
            "value": " 15/15 [02:45&lt;00:00, 10.14s/it]"
          }
        },
        "10ee9fb374564af486ad5d0296451baf": {
          "model_module": "@jupyter-widgets/base",
          "model_name": "LayoutModel",
          "model_module_version": "1.2.0",
          "state": {
            "_model_module": "@jupyter-widgets/base",
            "_model_module_version": "1.2.0",
            "_model_name": "LayoutModel",
            "_view_count": null,
            "_view_module": "@jupyter-widgets/base",
            "_view_module_version": "1.2.0",
            "_view_name": "LayoutView",
            "align_content": null,
            "align_items": null,
            "align_self": null,
            "border": null,
            "bottom": null,
            "display": null,
            "flex": null,
            "flex_flow": null,
            "grid_area": null,
            "grid_auto_columns": null,
            "grid_auto_flow": null,
            "grid_auto_rows": null,
            "grid_column": null,
            "grid_gap": null,
            "grid_row": null,
            "grid_template_areas": null,
            "grid_template_columns": null,
            "grid_template_rows": null,
            "height": null,
            "justify_content": null,
            "justify_items": null,
            "left": null,
            "margin": null,
            "max_height": null,
            "max_width": null,
            "min_height": null,
            "min_width": null,
            "object_fit": null,
            "object_position": null,
            "order": null,
            "overflow": null,
            "overflow_x": null,
            "overflow_y": null,
            "padding": null,
            "right": null,
            "top": null,
            "visibility": null,
            "width": null
          }
        },
        "2ca412edd86a44dfb471b999441a410b": {
          "model_module": "@jupyter-widgets/base",
          "model_name": "LayoutModel",
          "model_module_version": "1.2.0",
          "state": {
            "_model_module": "@jupyter-widgets/base",
            "_model_module_version": "1.2.0",
            "_model_name": "LayoutModel",
            "_view_count": null,
            "_view_module": "@jupyter-widgets/base",
            "_view_module_version": "1.2.0",
            "_view_name": "LayoutView",
            "align_content": null,
            "align_items": null,
            "align_self": null,
            "border": null,
            "bottom": null,
            "display": null,
            "flex": null,
            "flex_flow": null,
            "grid_area": null,
            "grid_auto_columns": null,
            "grid_auto_flow": null,
            "grid_auto_rows": null,
            "grid_column": null,
            "grid_gap": null,
            "grid_row": null,
            "grid_template_areas": null,
            "grid_template_columns": null,
            "grid_template_rows": null,
            "height": null,
            "justify_content": null,
            "justify_items": null,
            "left": null,
            "margin": null,
            "max_height": null,
            "max_width": null,
            "min_height": null,
            "min_width": null,
            "object_fit": null,
            "object_position": null,
            "order": null,
            "overflow": null,
            "overflow_x": null,
            "overflow_y": null,
            "padding": null,
            "right": null,
            "top": null,
            "visibility": null,
            "width": null
          }
        },
        "5bdc6009214048f28ca3db96220d70c1": {
          "model_module": "@jupyter-widgets/controls",
          "model_name": "DescriptionStyleModel",
          "model_module_version": "1.5.0",
          "state": {
            "_model_module": "@jupyter-widgets/controls",
            "_model_module_version": "1.5.0",
            "_model_name": "DescriptionStyleModel",
            "_view_count": null,
            "_view_module": "@jupyter-widgets/base",
            "_view_module_version": "1.2.0",
            "_view_name": "StyleView",
            "description_width": ""
          }
        },
        "28e9b191cb5a48da893a1406ac3d44a9": {
          "model_module": "@jupyter-widgets/base",
          "model_name": "LayoutModel",
          "model_module_version": "1.2.0",
          "state": {
            "_model_module": "@jupyter-widgets/base",
            "_model_module_version": "1.2.0",
            "_model_name": "LayoutModel",
            "_view_count": null,
            "_view_module": "@jupyter-widgets/base",
            "_view_module_version": "1.2.0",
            "_view_name": "LayoutView",
            "align_content": null,
            "align_items": null,
            "align_self": null,
            "border": null,
            "bottom": null,
            "display": null,
            "flex": null,
            "flex_flow": null,
            "grid_area": null,
            "grid_auto_columns": null,
            "grid_auto_flow": null,
            "grid_auto_rows": null,
            "grid_column": null,
            "grid_gap": null,
            "grid_row": null,
            "grid_template_areas": null,
            "grid_template_columns": null,
            "grid_template_rows": null,
            "height": null,
            "justify_content": null,
            "justify_items": null,
            "left": null,
            "margin": null,
            "max_height": null,
            "max_width": null,
            "min_height": null,
            "min_width": null,
            "object_fit": null,
            "object_position": null,
            "order": null,
            "overflow": null,
            "overflow_x": null,
            "overflow_y": null,
            "padding": null,
            "right": null,
            "top": null,
            "visibility": null,
            "width": null
          }
        },
        "5b4d0193089149bfaeb0c4bc28e04cd8": {
          "model_module": "@jupyter-widgets/controls",
          "model_name": "ProgressStyleModel",
          "model_module_version": "1.5.0",
          "state": {
            "_model_module": "@jupyter-widgets/controls",
            "_model_module_version": "1.5.0",
            "_model_name": "ProgressStyleModel",
            "_view_count": null,
            "_view_module": "@jupyter-widgets/base",
            "_view_module_version": "1.2.0",
            "_view_name": "StyleView",
            "bar_color": null,
            "description_width": ""
          }
        },
        "06eaa391fa2648278e99e3dc1bd50ac3": {
          "model_module": "@jupyter-widgets/base",
          "model_name": "LayoutModel",
          "model_module_version": "1.2.0",
          "state": {
            "_model_module": "@jupyter-widgets/base",
            "_model_module_version": "1.2.0",
            "_model_name": "LayoutModel",
            "_view_count": null,
            "_view_module": "@jupyter-widgets/base",
            "_view_module_version": "1.2.0",
            "_view_name": "LayoutView",
            "align_content": null,
            "align_items": null,
            "align_self": null,
            "border": null,
            "bottom": null,
            "display": null,
            "flex": null,
            "flex_flow": null,
            "grid_area": null,
            "grid_auto_columns": null,
            "grid_auto_flow": null,
            "grid_auto_rows": null,
            "grid_column": null,
            "grid_gap": null,
            "grid_row": null,
            "grid_template_areas": null,
            "grid_template_columns": null,
            "grid_template_rows": null,
            "height": null,
            "justify_content": null,
            "justify_items": null,
            "left": null,
            "margin": null,
            "max_height": null,
            "max_width": null,
            "min_height": null,
            "min_width": null,
            "object_fit": null,
            "object_position": null,
            "order": null,
            "overflow": null,
            "overflow_x": null,
            "overflow_y": null,
            "padding": null,
            "right": null,
            "top": null,
            "visibility": null,
            "width": null
          }
        },
        "710f7e7d3bff48eca0794d97f85c4221": {
          "model_module": "@jupyter-widgets/controls",
          "model_name": "DescriptionStyleModel",
          "model_module_version": "1.5.0",
          "state": {
            "_model_module": "@jupyter-widgets/controls",
            "_model_module_version": "1.5.0",
            "_model_name": "DescriptionStyleModel",
            "_view_count": null,
            "_view_module": "@jupyter-widgets/base",
            "_view_module_version": "1.2.0",
            "_view_name": "StyleView",
            "description_width": ""
          }
        },
        "9352a8715c064777a635a49181403ebd": {
          "model_module": "@jupyter-widgets/controls",
          "model_name": "HBoxModel",
          "model_module_version": "1.5.0",
          "state": {
            "_dom_classes": [],
            "_model_module": "@jupyter-widgets/controls",
            "_model_module_version": "1.5.0",
            "_model_name": "HBoxModel",
            "_view_count": null,
            "_view_module": "@jupyter-widgets/controls",
            "_view_module_version": "1.5.0",
            "_view_name": "HBoxView",
            "box_style": "",
            "children": [
              "IPY_MODEL_84f0105141c34e2f8ef7e4a313d2f96e",
              "IPY_MODEL_36be80027c1c4d01b780210d3932083f",
              "IPY_MODEL_c1def80af3e04ee1b9ea66e2025fc1e2"
            ],
            "layout": "IPY_MODEL_ab991e19419d43c883d696008e68168e"
          }
        },
        "84f0105141c34e2f8ef7e4a313d2f96e": {
          "model_module": "@jupyter-widgets/controls",
          "model_name": "HTMLModel",
          "model_module_version": "1.5.0",
          "state": {
            "_dom_classes": [],
            "_model_module": "@jupyter-widgets/controls",
            "_model_module_version": "1.5.0",
            "_model_name": "HTMLModel",
            "_view_count": null,
            "_view_module": "@jupyter-widgets/controls",
            "_view_module_version": "1.5.0",
            "_view_name": "HTMLView",
            "description": "",
            "description_tooltip": null,
            "layout": "IPY_MODEL_5a3edce3c16844bd8de93d6575ad0d4b",
            "placeholder": "​",
            "style": "IPY_MODEL_ee3fdfce8391481cb71fa567847f157e",
            "value": "100%"
          }
        },
        "36be80027c1c4d01b780210d3932083f": {
          "model_module": "@jupyter-widgets/controls",
          "model_name": "FloatProgressModel",
          "model_module_version": "1.5.0",
          "state": {
            "_dom_classes": [],
            "_model_module": "@jupyter-widgets/controls",
            "_model_module_version": "1.5.0",
            "_model_name": "FloatProgressModel",
            "_view_count": null,
            "_view_module": "@jupyter-widgets/controls",
            "_view_module_version": "1.5.0",
            "_view_name": "ProgressView",
            "bar_style": "success",
            "description": "",
            "description_tooltip": null,
            "layout": "IPY_MODEL_e38cc735ed524dad84d5ec72fb4259dd",
            "max": 15,
            "min": 0,
            "orientation": "horizontal",
            "style": "IPY_MODEL_3df13c3be2e54d7eaedc931413fc7533",
            "value": 15
          }
        },
        "c1def80af3e04ee1b9ea66e2025fc1e2": {
          "model_module": "@jupyter-widgets/controls",
          "model_name": "HTMLModel",
          "model_module_version": "1.5.0",
          "state": {
            "_dom_classes": [],
            "_model_module": "@jupyter-widgets/controls",
            "_model_module_version": "1.5.0",
            "_model_name": "HTMLModel",
            "_view_count": null,
            "_view_module": "@jupyter-widgets/controls",
            "_view_module_version": "1.5.0",
            "_view_name": "HTMLView",
            "description": "",
            "description_tooltip": null,
            "layout": "IPY_MODEL_ef9edc4aa161475a988500663a80212a",
            "placeholder": "​",
            "style": "IPY_MODEL_bec34a85530143adbdc24931bed9d0c8",
            "value": " 15/15 [00:30&lt;00:00,  2.21s/it]"
          }
        },
        "ab991e19419d43c883d696008e68168e": {
          "model_module": "@jupyter-widgets/base",
          "model_name": "LayoutModel",
          "model_module_version": "1.2.0",
          "state": {
            "_model_module": "@jupyter-widgets/base",
            "_model_module_version": "1.2.0",
            "_model_name": "LayoutModel",
            "_view_count": null,
            "_view_module": "@jupyter-widgets/base",
            "_view_module_version": "1.2.0",
            "_view_name": "LayoutView",
            "align_content": null,
            "align_items": null,
            "align_self": null,
            "border": null,
            "bottom": null,
            "display": null,
            "flex": null,
            "flex_flow": null,
            "grid_area": null,
            "grid_auto_columns": null,
            "grid_auto_flow": null,
            "grid_auto_rows": null,
            "grid_column": null,
            "grid_gap": null,
            "grid_row": null,
            "grid_template_areas": null,
            "grid_template_columns": null,
            "grid_template_rows": null,
            "height": null,
            "justify_content": null,
            "justify_items": null,
            "left": null,
            "margin": null,
            "max_height": null,
            "max_width": null,
            "min_height": null,
            "min_width": null,
            "object_fit": null,
            "object_position": null,
            "order": null,
            "overflow": null,
            "overflow_x": null,
            "overflow_y": null,
            "padding": null,
            "right": null,
            "top": null,
            "visibility": null,
            "width": null
          }
        },
        "5a3edce3c16844bd8de93d6575ad0d4b": {
          "model_module": "@jupyter-widgets/base",
          "model_name": "LayoutModel",
          "model_module_version": "1.2.0",
          "state": {
            "_model_module": "@jupyter-widgets/base",
            "_model_module_version": "1.2.0",
            "_model_name": "LayoutModel",
            "_view_count": null,
            "_view_module": "@jupyter-widgets/base",
            "_view_module_version": "1.2.0",
            "_view_name": "LayoutView",
            "align_content": null,
            "align_items": null,
            "align_self": null,
            "border": null,
            "bottom": null,
            "display": null,
            "flex": null,
            "flex_flow": null,
            "grid_area": null,
            "grid_auto_columns": null,
            "grid_auto_flow": null,
            "grid_auto_rows": null,
            "grid_column": null,
            "grid_gap": null,
            "grid_row": null,
            "grid_template_areas": null,
            "grid_template_columns": null,
            "grid_template_rows": null,
            "height": null,
            "justify_content": null,
            "justify_items": null,
            "left": null,
            "margin": null,
            "max_height": null,
            "max_width": null,
            "min_height": null,
            "min_width": null,
            "object_fit": null,
            "object_position": null,
            "order": null,
            "overflow": null,
            "overflow_x": null,
            "overflow_y": null,
            "padding": null,
            "right": null,
            "top": null,
            "visibility": null,
            "width": null
          }
        },
        "ee3fdfce8391481cb71fa567847f157e": {
          "model_module": "@jupyter-widgets/controls",
          "model_name": "DescriptionStyleModel",
          "model_module_version": "1.5.0",
          "state": {
            "_model_module": "@jupyter-widgets/controls",
            "_model_module_version": "1.5.0",
            "_model_name": "DescriptionStyleModel",
            "_view_count": null,
            "_view_module": "@jupyter-widgets/base",
            "_view_module_version": "1.2.0",
            "_view_name": "StyleView",
            "description_width": ""
          }
        },
        "e38cc735ed524dad84d5ec72fb4259dd": {
          "model_module": "@jupyter-widgets/base",
          "model_name": "LayoutModel",
          "model_module_version": "1.2.0",
          "state": {
            "_model_module": "@jupyter-widgets/base",
            "_model_module_version": "1.2.0",
            "_model_name": "LayoutModel",
            "_view_count": null,
            "_view_module": "@jupyter-widgets/base",
            "_view_module_version": "1.2.0",
            "_view_name": "LayoutView",
            "align_content": null,
            "align_items": null,
            "align_self": null,
            "border": null,
            "bottom": null,
            "display": null,
            "flex": null,
            "flex_flow": null,
            "grid_area": null,
            "grid_auto_columns": null,
            "grid_auto_flow": null,
            "grid_auto_rows": null,
            "grid_column": null,
            "grid_gap": null,
            "grid_row": null,
            "grid_template_areas": null,
            "grid_template_columns": null,
            "grid_template_rows": null,
            "height": null,
            "justify_content": null,
            "justify_items": null,
            "left": null,
            "margin": null,
            "max_height": null,
            "max_width": null,
            "min_height": null,
            "min_width": null,
            "object_fit": null,
            "object_position": null,
            "order": null,
            "overflow": null,
            "overflow_x": null,
            "overflow_y": null,
            "padding": null,
            "right": null,
            "top": null,
            "visibility": null,
            "width": null
          }
        },
        "3df13c3be2e54d7eaedc931413fc7533": {
          "model_module": "@jupyter-widgets/controls",
          "model_name": "ProgressStyleModel",
          "model_module_version": "1.5.0",
          "state": {
            "_model_module": "@jupyter-widgets/controls",
            "_model_module_version": "1.5.0",
            "_model_name": "ProgressStyleModel",
            "_view_count": null,
            "_view_module": "@jupyter-widgets/base",
            "_view_module_version": "1.2.0",
            "_view_name": "StyleView",
            "bar_color": null,
            "description_width": ""
          }
        },
        "ef9edc4aa161475a988500663a80212a": {
          "model_module": "@jupyter-widgets/base",
          "model_name": "LayoutModel",
          "model_module_version": "1.2.0",
          "state": {
            "_model_module": "@jupyter-widgets/base",
            "_model_module_version": "1.2.0",
            "_model_name": "LayoutModel",
            "_view_count": null,
            "_view_module": "@jupyter-widgets/base",
            "_view_module_version": "1.2.0",
            "_view_name": "LayoutView",
            "align_content": null,
            "align_items": null,
            "align_self": null,
            "border": null,
            "bottom": null,
            "display": null,
            "flex": null,
            "flex_flow": null,
            "grid_area": null,
            "grid_auto_columns": null,
            "grid_auto_flow": null,
            "grid_auto_rows": null,
            "grid_column": null,
            "grid_gap": null,
            "grid_row": null,
            "grid_template_areas": null,
            "grid_template_columns": null,
            "grid_template_rows": null,
            "height": null,
            "justify_content": null,
            "justify_items": null,
            "left": null,
            "margin": null,
            "max_height": null,
            "max_width": null,
            "min_height": null,
            "min_width": null,
            "object_fit": null,
            "object_position": null,
            "order": null,
            "overflow": null,
            "overflow_x": null,
            "overflow_y": null,
            "padding": null,
            "right": null,
            "top": null,
            "visibility": null,
            "width": null
          }
        },
        "bec34a85530143adbdc24931bed9d0c8": {
          "model_module": "@jupyter-widgets/controls",
          "model_name": "DescriptionStyleModel",
          "model_module_version": "1.5.0",
          "state": {
            "_model_module": "@jupyter-widgets/controls",
            "_model_module_version": "1.5.0",
            "_model_name": "DescriptionStyleModel",
            "_view_count": null,
            "_view_module": "@jupyter-widgets/base",
            "_view_module_version": "1.2.0",
            "_view_name": "StyleView",
            "description_width": ""
          }
        }
      }
    }
  },
  "nbformat": 4,
  "nbformat_minor": 0
}